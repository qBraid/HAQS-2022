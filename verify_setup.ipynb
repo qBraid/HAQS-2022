{
 "cells": [
  {
   "cell_type": "markdown",
   "id": "e49b2809-be50-40fc-9def-e1b4b2dea910",
   "metadata": {},
   "source": [
    "# Verify Environment Setup in qBraid Lab"
   ]
  },
  {
   "cell_type": "markdown",
   "id": "51ef44b2-4225-4df1-aa85-007d826d81a3",
   "metadata": {
    "tags": []
   },
   "source": [
    "#### 1. Use the [qBraid CLI](https://qbraid-qbraid.readthedocs-hosted.com/en/latest/cli/qbraid.html) to verify that the HAQS-2022 environment is installed and active."
   ]
  },
  {
   "cell_type": "code",
   "execution_count": 1,
   "id": "4902893b-18c1-4acd-b0d4-f577c3a6f8f5",
   "metadata": {},
   "outputs": [
    {
     "name": "stdout",
     "output_type": "stream",
     "text": [
      "Installed environments:\u001b[0m\n",
      "\u001b[1;35mqsharp\n",
      "\u001b[1;35mdefault\n",
      "\u001b[1;35mhaqs\n",
      "\u001b[1;35mamazon_braket\n",
      "\u001b[0mUse `qbraid envs -h` to see available commands.\n"
     ]
    }
   ],
   "source": [
    "# verify that `haqs` is listed under installed environments.\n",
    "!qbraid envs list"
   ]
  },
  {
   "cell_type": "code",
   "execution_count": 2,
   "id": "02574938-1171-48aa-9a8d-27154c8fd791",
   "metadata": {},
   "outputs": [
    {
     "name": "stdout",
     "output_type": "stream",
     "text": [
      "Available kernels:\n",
      "  python3_aws_braket_kwx6dl    /home/jovyan/.local/share/jupyter/kernels/python3_aws_braket_kwx6dl\n",
      "  python3_haqs_dk5kt8          /home/jovyan/.local/share/jupyter/kernels/python3_haqs_dk5kt8\n",
      "  python3                      /opt/conda/share/jupyter/kernels/python3\n"
     ]
    }
   ],
   "source": [
    "# verify that `python3_haqs_dk5kt8` is listed under available kernels.\n",
    "!qbraid kernels list"
   ]
  },
  {
   "cell_type": "markdown",
   "id": "c8b6082a-3445-480f-8ef7-1e4d986114d5",
   "metadata": {},
   "source": [
    "#### 2. [Switch notebook kernel](https://qbraid-qbraid.readthedocs-hosted.com/en/latest/lab/kernels.html#switch-notebook-kernel) to `Python 3 [HAQS-2022]` and verify that qBraid quantum jobs are working."
   ]
  },
  {
   "cell_type": "code",
   "execution_count": 3,
   "id": "13fb6a7d-b16d-439e-bec8-5149bca262a6",
   "metadata": {},
   "outputs": [
    {
     "name": "stdout",
     "output_type": "stream",
     "text": [
      "\u001b[0;35mSuccessfully enabled qBraid Quantum Jobs in the \u001b[1;35mhaqs\u001b[0m\u001b[0;35m environment.\u001b[0m\n",
      "\u001b[0;35mEvery \u001b[1;35mAWS\u001b[0m\u001b[0;35m job you run will now be submitted through the qBraid API, so no access keys are necessary. \u001b[0m\n",
      "\n",
      "\u001b[0;35mTo disable, run:\u001b[0m `qbraid jobs disable haqs`\n"
     ]
    }
   ],
   "source": [
    "# enable qBraid quantum jobs in `haqs` environment\n",
    "!qbraid jobs enable haqs"
   ]
  },
  {
   "cell_type": "code",
   "execution_count": 4,
   "id": "65f9330a-2e8c-43e6-b40a-e2d05b071e13",
   "metadata": {},
   "outputs": [
    {
     "name": "stdout",
     "output_type": "stream",
     "text": [
      "T  : |0|1|\n",
      "          \n",
      "q0 : -H-C-\n",
      "        | \n",
      "q1 : ---X-\n",
      "\n",
      "T  : |0|1|\n"
     ]
    }
   ],
   "source": [
    "from braket.aws import AwsDevice, AwsQuantumTask\n",
    "from braket.circuits import Circuit\n",
    "\n",
    "# create the Amazon Braket circuit\n",
    "bell = Circuit().h(0).cnot(0, 1)\n",
    "\n",
    "print(bell)"
   ]
  },
  {
   "cell_type": "code",
   "execution_count": 5,
   "id": "36fcb0c6-18bb-47eb-b1f6-4a52d4539afd",
   "metadata": {},
   "outputs": [],
   "source": [
    "# choose the cloud-based on-demand simulator to run your circuit\n",
    "device = AwsDevice(\"arn:aws:braket:::device/quantum-simulator/amazon/dm1\")"
   ]
  },
  {
   "cell_type": "code",
   "execution_count": 6,
   "id": "6f41efe9-f995-48ea-8c6b-8b80e5e211be",
   "metadata": {},
   "outputs": [],
   "source": [
    "# execute the circuit\n",
    "task = device.run(bell, shots=100)"
   ]
  },
  {
   "cell_type": "code",
   "execution_count": 7,
   "id": "be3ce1b0-89d2-4a73-9e0f-f6f1eca24465",
   "metadata": {},
   "outputs": [
    {
     "name": "stdout",
     "output_type": "stream",
     "text": [
      "Counter({'00': 58, '11': 42})\n"
     ]
    }
   ],
   "source": [
    "# display the results\n",
    "print(task.result().measurement_counts)"
   ]
  },
  {
   "cell_type": "code",
   "execution_count": 8,
   "id": "03126d6f-4a2d-4877-abbf-5ef867220fca",
   "metadata": {},
   "outputs": [
    {
     "name": "stdout",
     "output_type": "stream",
     "text": [
      "Wed Oct 26 2022 15:27:44 GMT+0000 (Coordinated Universal Time) arn:aws:braket:::device/quantum-simulator/amazon/dm1 arn:aws:braket:us-east-1:592242689881:quantum-task/79bb1757-c00e-461b-a982-eaa24c6f3f82\n",
      "\n"
     ]
    }
   ],
   "source": [
    "# list submitted jobs\n",
    "!qbraid jobs list"
   ]
  },
  {
   "cell_type": "code",
   "execution_count": 9,
   "id": "26c71ca0-837e-42f4-a17d-5ba5a2733f4b",
   "metadata": {},
   "outputs": [
    {
     "name": "stdout",
     "output_type": "stream",
     "text": [
      "\u001b[0;35mYou have \u001b[0m1499.59999988\u001b[0;35m remaining qBraid credits.\u001b[0m\n"
     ]
    }
   ],
   "source": [
    "# check remaining qBraid credits\n",
    "!qbraid jobs get-credits"
   ]
  },
  {
   "cell_type": "markdown",
   "id": "f6b3b76b-a1b2-4b04-8675-1cc1358f90bd",
   "metadata": {},
   "source": [
    "#### 3. Congrats! If all of these tests passed then you are ready to begin working on the HAQS challenges."
   ]
  }
 ],
 "metadata": {
  "kernelspec": {
   "display_name": "Python 3 [HAQS-22]",
   "language": "python",
   "name": "python3_haqs_dk5kt8"
  },
  "language_info": {
   "codemirror_mode": {
    "name": "ipython",
    "version": 3
   },
   "file_extension": ".py",
   "mimetype": "text/x-python",
   "name": "python",
   "nbconvert_exporter": "python",
   "pygments_lexer": "ipython3",
   "version": "3.9.10"
  }
 },
 "nbformat": 4,
 "nbformat_minor": 5
}
