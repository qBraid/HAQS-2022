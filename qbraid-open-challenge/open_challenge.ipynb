{
 "cells": [
  {
   "cell_type": "markdown",
   "id": "b9b747c2-010b-47fb-8d53-e6750d7ff9ab",
   "metadata": {},
   "source": [
    "# qBraid Open Challenge\n",
    "\n",
    "In this open challenge, submissions will be judged on the most creative/compelling use of the [qBraid-SDK](https://qbraid-qbraid.readthedocs-hosted.com/en/latest/sdk/overview.html). The only additional requirement is that you must in some way use [qBraid quantum jobs](https://github.com/qBraid/qbraid-lab-demo/blob/main/qbraid_quantum_jobs.ipynb) to interface with [Amazon Braket supported devices](https://docs.aws.amazon.com/braket/latest/developerguide/braket-devices.html).\n",
    "\n",
    "#### Resources\n",
    "\n",
    "- [qBraid demo notebooks](https://github.com/qBraid/qbraid-lab-demo)\n",
    "- [qBraid SDK: user guide](https://qbraid-qbraid.readthedocs-hosted.com/en/latest/sdk/overview.html)\n",
    "- [qBraid SDK: API reference](https://qbraid-qbraid.readthedocs-hosted.com/en/latest/api/qbraid.html)\n",
    "- [qBraid CLI: quantum jobs commands](https://qbraid-qbraid.readthedocs-hosted.com/en/latest/cli/jobs.html)"
   ]
  },
  {
   "cell_type": "code",
   "execution_count": 1,
   "id": "3187f53d-e3b7-4b40-8f16-93cfbe861f03",
   "metadata": {},
   "outputs": [
    {
     "name": "stdout",
     "output_type": "stream",
     "text": [
      "\u001b[0;31mERROR: Invalid argument \u001b[0mhaqs\n",
      "\n",
      "Environment \u001b[0;35mhaqs\u001b[0m is not installed. Use `qbraid envs list` to see installed environments.\n"
     ]
    }
   ],
   "source": [
    "!qbraid jobs enable haqs"
   ]
  },
  {
   "cell_type": "code",
   "execution_count": 2,
   "id": "7eb6881d-8ea0-4bb9-8ae7-42873fd8fcdc",
   "metadata": {},
   "outputs": [],
   "source": [
    "TEAM_NAME = \"template\"  # enter team name"
   ]
  },
  {
   "cell_type": "code",
   "execution_count": 3,
   "id": "07164ae2-fa84-4a77-ad8f-27fd69e5c4f6",
   "metadata": {},
   "outputs": [],
   "source": [
    "import qbraid\n",
    "\n",
    "from qbraid import (\n",
    "    get_devices,\n",
    "    get_jobs,\n",
    "    circuit_wrapper,\n",
    "    device_wrapper,\n",
    "    job_wrapper,\n",
    "    SUPPORTED_PROGRAM_TYPES,\n",
    ")\n",
    "from qbraid.api import ibmq_least_busy_qpu, verify_config\n",
    "from qbraid.interface import random_circuit, to_unitary, circuits_allclose, draw"
   ]
  },
  {
   "cell_type": "code",
   "execution_count": 4,
   "id": "7b859249-5da8-45f2-83dc-6fdf19ce62da",
   "metadata": {},
   "outputs": [
    {
     "data": {
      "text/plain": [
       "'0.1.4'"
      ]
     },
     "execution_count": 4,
     "metadata": {},
     "output_type": "execute_result"
    }
   ],
   "source": [
    "qbraid.__version__"
   ]
  },
  {
   "cell_type": "code",
   "execution_count": 5,
   "id": "af9b2254-c496-4196-80ec-6ccefb71dc63",
   "metadata": {},
   "outputs": [],
   "source": [
    "# Your code!"
   ]
  }
 ],
 "metadata": {
  "kernelspec": {
   "display_name": "Python 3 [Default]",
   "language": "python",
   "name": "python3"
  },
  "language_info": {
   "codemirror_mode": {
    "name": "ipython",
    "version": 3
   },
   "file_extension": ".py",
   "mimetype": "text/x-python",
   "name": "python",
   "nbconvert_exporter": "python",
   "pygments_lexer": "ipython3",
   "version": "3.9.10"
  }
 },
 "nbformat": 4,
 "nbformat_minor": 5
}
